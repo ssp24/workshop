{
 "cells": [
  {
   "cell_type": "code",
   "execution_count": 1,
   "id": "1074e73a-a18e-4354-9faf-1d41795145b2",
   "metadata": {},
   "outputs": [],
   "source": [
    "import requests\n",
    "import pandas as pd\n",
    "import lxml.etree as ET\n",
    "from bs4 import BeautifulSoup as soup\n",
    "import unicodedata"
   ]
  },
  {
   "cell_type": "code",
   "execution_count": null,
   "id": "55265220-b857-4660-b3dd-fbf4fd330f82",
   "metadata": {},
   "outputs": [],
   "source": [
    "df_all = pd.read_hdf(\"pandemie_titeldaten.h5\", key=\"df\")\n",
    "df_all"
   ]
  },
  {
   "cell_type": "markdown",
   "id": "9c91b55a-4ffe-45fb-aa93-c12c54bbf6a7",
   "metadata": {},
   "source": [
    "### Optional: Einschränken des Sets auf deutschsprachige Publikationen: "
   ]
  },
  {
   "cell_type": "code",
   "execution_count": null,
   "id": "75b24b84-387c-4026-a36d-835a98b5684f",
   "metadata": {},
   "outputs": [],
   "source": [
    "df = df_all.loc[df_all.lang == \"ger\"]\n",
    "df"
   ]
  },
  {
   "cell_type": "markdown",
   "id": "5120d8e9-03d3-40d9-b537-9e297a0121c3",
   "metadata": {},
   "source": [
    "### Optional: Kleinschreibung"
   ]
  },
  {
   "cell_type": "code",
   "execution_count": null,
   "id": "aaaf1d45-4bbc-4e9b-9b1e-a526a5bccab7",
   "metadata": {},
   "outputs": [],
   "source": [
    "df.loc[:, 'title'] = df['title'].str.lower() "
   ]
  },
  {
   "cell_type": "markdown",
   "id": "6676c1e8-8d9d-4210-8922-dc174c8ce2b5",
   "metadata": {},
   "source": [
    "## Entfernung von \"Stopwords\": "
   ]
  },
  {
   "cell_type": "code",
   "execution_count": null,
   "id": "33f27dbb-a23a-499d-9d5b-c3c4f5522ac7",
   "metadata": {},
   "outputs": [],
   "source": [
    "#Importieren der zu entfernenden Stopwörter (wie bpsw. \"und\", \"der\", etc.):\n",
    "\n",
    "import nltk\n",
    "from nltk.corpus import stopwords\n",
    "from nltk.tokenize import word_tokenize\n",
    "#nltk.download('stopwords')\n",
    "\n",
    "stopger = stopwords.words('german')\n",
    "\n",
    "#Bei Bedarf können weitere Stopwords hinzugefügt werden: \n",
    "newStopwords = ['']\n",
    "stopger.extend(newStopwords)"
   ]
  },
  {
   "cell_type": "code",
   "execution_count": null,
   "id": "011cd28c-0fae-44a5-8eec-6a083f98b6a8",
   "metadata": {},
   "outputs": [],
   "source": [
    "#Entfernung überflüssiger Leerzeichen sowie Kommata, Doppelpunkte und eckige Klammern:\n",
    "df.loc[:, 'title_clean'] = df['title'].str.replace(r'\\s+', ' ', regex=True)\n",
    "df.loc[:, 'title_clean'] = df['title_clean'].str.replace(r'(\\w+)[,.:?!\\[\\]]', r'\\1', regex=True)\n",
    "df.loc[:, 'title_clean'] = df['title_clean'].str.replace(\" - \", \"\") \n",
    "df"
   ]
  },
  {
   "cell_type": "code",
   "execution_count": null,
   "id": "9c316591-149e-4c9c-a786-ffce4d3d2a38",
   "metadata": {},
   "outputs": [],
   "source": [
    "#Abgleich der Wörter mit den Stopwörtern - Stopwerds werden ausgeschlossen: \n",
    "df.loc[:, 'title_clean'] = df['title_clean'].apply(lambda x: ' '.join([word for word in x.split() if word not in stopger]))\n",
    "df"
   ]
  },
  {
   "cell_type": "markdown",
   "id": "1d8e934f-90ef-49c7-ac6c-56d21fef9045",
   "metadata": {},
   "source": [
    "## Näherer Eindruck der Titel - ggf. weitere Bereinigung: "
   ]
  },
  {
   "cell_type": "code",
   "execution_count": null,
   "id": "6e110687-c1fa-4a8a-ae7e-ae55609467fc",
   "metadata": {},
   "outputs": [],
   "source": [
    "df.title_clean"
   ]
  },
  {
   "cell_type": "code",
   "execution_count": null,
   "id": "58b9283a-64a1-4150-9885-21bc4b421d09",
   "metadata": {},
   "outputs": [],
   "source": [
    "df = df.drop_duplicates(subset='title', keep='first')"
   ]
  },
  {
   "cell_type": "code",
   "execution_count": null,
   "id": "080d04e2-df71-4628-9d8b-12eb936b64b8",
   "metadata": {},
   "outputs": [],
   "source": [
    "df.title_clean"
   ]
  },
  {
   "cell_type": "code",
   "execution_count": null,
   "id": "0b3e438d-40d1-4a2a-a6a1-088082752665",
   "metadata": {},
   "outputs": [],
   "source": [
    "for title in df.title_clean:\n",
    "    print(title)"
   ]
  },
  {
   "cell_type": "markdown",
   "id": "221823f3-e98e-4401-84a9-54d2673e0895",
   "metadata": {},
   "source": [
    "## Ein erster Eindruck (Verteilung nach Jahreszahlen):\n"
   ]
  },
  {
   "cell_type": "code",
   "execution_count": null,
   "id": "2adc65e3-630d-4666-8e55-e5f3fb236fc2",
   "metadata": {},
   "outputs": [],
   "source": [
    "#Mit der Bibliothek plotly können interaktive Graphen geplottet werden:\n",
    "import plotly.express as px\n",
    "\n",
    "fig1 = px.histogram(df, x='date') #Mit px.bar() wird jede Zeile des übergebenen DataFrames in Form eines Balken dargestellt. Die Notation wird wie folgt übergeben: dataframe, x-Achse, y-Achse.\n",
    "fig1.show() #Mit der Funktion .show() wird der fertige Graph angezeigt.\n"
   ]
  },
  {
   "cell_type": "code",
   "execution_count": null,
   "id": "6b46021c-205e-4696-97cb-24a960e407cd",
   "metadata": {},
   "outputs": [],
   "source": [
    "df.query(\"date.str.len() > 4\")"
   ]
  },
  {
   "cell_type": "markdown",
   "id": "ef5e6ac9-254e-46b3-8475-a25625c069a6",
   "metadata": {},
   "source": [
    "OK, more datacleaning first... :"
   ]
  },
  {
   "cell_type": "code",
   "execution_count": null,
   "id": "a7104554-993c-4300-bce2-46b7d13a17c3",
   "metadata": {},
   "outputs": [],
   "source": [
    "df['date'] = df['date'].str.replace(r'[\\[\\]\\(\\)?]', '', regex=True)"
   ]
  },
  {
   "cell_type": "code",
   "execution_count": null,
   "id": "7a6b8622-a3a5-43b5-a5bd-5a2e720810bb",
   "metadata": {},
   "outputs": [],
   "source": [
    "df.query(\"date.str.len() > 4\")"
   ]
  },
  {
   "cell_type": "code",
   "execution_count": null,
   "id": "329e6219-1ace-4939-b072-bd983cb04c67",
   "metadata": {},
   "outputs": [],
   "source": [
    "fig2 = px.histogram(df, x=\"date\", barmode='group')\n",
    "fig2.update_layout(barmode='stack', xaxis={'categoryorder':'category ascending'})\n",
    "fig2.show()"
   ]
  },
  {
   "cell_type": "code",
   "execution_count": null,
   "id": "3a47b9c7-b152-41d1-9739-759e07840446",
   "metadata": {},
   "outputs": [],
   "source": [
    "df.loc[:, 'date'] = df['date'].str.replace(r'-+$', '', regex=True)"
   ]
  },
  {
   "cell_type": "code",
   "execution_count": null,
   "id": "fe1a5167-8a0f-4143-aaef-7a5583378937",
   "metadata": {},
   "outputs": [],
   "source": [
    "df.loc[:, 'date'] = df['date'].str[-4:]"
   ]
  },
  {
   "cell_type": "code",
   "execution_count": null,
   "id": "7b026ab1-bdcd-498e-890e-3498df3fb1d5",
   "metadata": {},
   "outputs": [],
   "source": [
    "#df.loc[df[\"DATE\"] == \"20ka\"]"
   ]
  },
  {
   "cell_type": "code",
   "execution_count": null,
   "id": "d9aa79db-19f5-4036-be19-5bfd6f515a0d",
   "metadata": {},
   "outputs": [],
   "source": [
    "df.loc[:, 'date'] = df['date'].str.replace(\"20ka\", \"2020\")"
   ]
  },
  {
   "cell_type": "code",
   "execution_count": null,
   "id": "3c7a8b0a-254a-4a02-b296-a73342ee7548",
   "metadata": {},
   "outputs": [],
   "source": [
    "fig3 = px.histogram(df, x=\"date\", barmode='group')\n",
    "fig3.update_layout(barmode='stack', xaxis={'categoryorder':'category ascending'})\n",
    "fig3.show()"
   ]
  },
  {
   "cell_type": "code",
   "execution_count": null,
   "id": "cb5196a4-14f0-438f-9391-d5fd3b009eed",
   "metadata": {},
   "outputs": [],
   "source": [
    "df"
   ]
  },
  {
   "cell_type": "markdown",
   "id": "87b35714-4f16-4bd5-921b-75bb62c089b9",
   "metadata": {},
   "source": [
    "Zwischenspeichern des Ergebnisses: "
   ]
  },
  {
   "cell_type": "code",
   "execution_count": null,
   "id": "23c0b7be-0fe3-438b-92cd-8369cd9953f2",
   "metadata": {},
   "outputs": [],
   "source": [
    "df.to_hdf(\"df_prep.h5\", key=\"df\")"
   ]
  },
  {
   "cell_type": "code",
   "execution_count": null,
   "id": "52f26ef5-ad49-45b9-8979-3abfb53b7ecc",
   "metadata": {},
   "outputs": [],
   "source": []
  }
 ],
 "metadata": {
  "kernelspec": {
   "display_name": "Python 3 (ipykernel)",
   "language": "python",
   "name": "python3"
  },
  "language_info": {
   "codemirror_mode": {
    "name": "ipython",
    "version": 3
   },
   "file_extension": ".py",
   "mimetype": "text/x-python",
   "name": "python",
   "nbconvert_exporter": "python",
   "pygments_lexer": "ipython3",
   "version": "3.11.7"
  }
 },
 "nbformat": 4,
 "nbformat_minor": 5
}
