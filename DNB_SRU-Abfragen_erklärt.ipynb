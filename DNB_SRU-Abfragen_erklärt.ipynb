{
 "cells": [
  {
   "cell_type": "markdown",
   "metadata": {},
   "source": [
    "# DNBLab Jupyter Notebook Tutorial\n",
    "\n",
    "## SRU-Abfragen erklärt - Tutorial für Einsteiger, die es wissen wollen"
   ]
  },
  {
   "cell_type": "markdown",
   "metadata": {},
   "source": [
    "Dieses Tutorial erklärt die Möglichkeiten, mit Hilfe von Jupyter Notebooks und Python die SRU-Schnittstelle der DNB abzufragen und mit den erhaltenen Antworten zu arbeiten. Das Tutorial erklärt dazu den Aufbau der Abfragen anhand von Beispielen und stützt sich auf die Dokumentation der SRU-Schnittstelle unter https://www.dnb.de/sru.\n",
    "\n",
    "Das Tutorial ist dazu in folgendermaßen aufgebaut: \n",
    "\n",
    "* [1. Einrichten der Arbeitsumgebung](#Teil1) \n",
    "* [2. Abfragen verschiedener Datensätze der DNB](#Teil2)  \n",
    "* [3. Aufbau einer gezielten Suche](#Teil3) \n",
    "* [4. Verarbeiten der Ergebnisse](#Teil4)\n"
   ]
  },
  {
   "cell_type": "markdown",
   "metadata": {},
   "source": [
    "### 1. Einrichten der Arbeitsumgebung  <a class=\"anchor\" id=\"Teil1\"></a>"
   ]
  },
  {
   "cell_type": "markdown",
   "metadata": {},
   "source": [
    "Um die Arbeitsumgebung für die folgenden Schritte passend einzurichten, werden zunächst die benötigten Python-Biblitoheken importiert: \"requests\" für die Abfragen an die SRU-Schnittstelle, ElementTree (als ET) und BeautifulSoup, um die XML-Antworten der Schnittstelle besser verarbeiten zu können und unicodedata zur Codierung:"
   ]
  },
  {
   "cell_type": "code",
   "execution_count": 19,
   "metadata": {},
   "outputs": [],
   "source": [
    "import requests\n",
    "import lxml.etree as ET\n",
    "from bs4 import BeautifulSoup as soup\n",
    "import unicodedata\n",
    "\n",
    "#URL der SRU-Schnittstelle der DNB: \n",
    "base_url = \"https://services.dnb.de/sru\"\n",
    "\n",
    "#Anfrage - wir speichern das Ergebnis in die Variable \"basic_request\":\n",
    "basic_request = requests.get(base_url)"
   ]
  },
  {
   "cell_type": "markdown",
   "metadata": {},
   "source": [
    "Die Antwort der Schnittstelle kann auf verschiedenen Wegen betrachtet werden: So kann bspw. der übergebene Inhalt als Text ausgegeben werden. Dies ist vor allem dann sinnvoll, wenn unklar ist, welches Format die Schnittstelle per default ausliefert. Alternativ kann der Inhalt natürlich auch direkt in das passende Format konvertiert werden. \n",
    "\n",
    "In diesem Fall gibt die SRU-Schnittstelle zunächst HTML zurück:"
   ]
  },
  {
   "cell_type": "code",
   "execution_count": 20,
   "metadata": {},
   "outputs": [
    {
     "name": "stdout",
     "output_type": "stream",
     "text": [
      "<html>\n",
      "<body>\n",
      "<h1>SRU is running.</h1>\n",
      "Version: 2.31, Build: 2022-03-01T12:10:32 UTC\n",
      "</body>\n",
      "</html>\n",
      "\n"
     ]
    }
   ],
   "source": [
    "#Ausgabe der ursprünglichen Abfrage als Text: \n",
    "print(basic_request.text)"
   ]
  },
  {
   "cell_type": "markdown",
   "metadata": {},
   "source": [
    "### 2. Abfragen verschiedener Datensätze der DNB  <a class=\"anchor\" id=\"Teil2\"></a>"
   ]
  },
  {
   "cell_type": "markdown",
   "metadata": {},
   "source": [
    "Die DNB bietet Ihre Daten auf drei verschiedene \"Kataloge\" gesplittet an, von denen immer einer für eine Abfrage ausgewählt werden muss. Dies geschieht über eine Erweiterung der Base-URL. Zur Verfügung stehen folgende Kataloge: \n",
    "\n",
    "* Katalog der Deutschen Nationalbibliothek (DNB) - hierin befinden sich die Titeldaten\n",
    "* Katalog des Deutschen Musikarchivs (DMA) - Datensätze des Deutschen Musikarchivs\n",
    "* Katalog der Gemeinsamen Normdatei (GND) - hierin befinden sich die Normdaten\n",
    "\n",
    "Die erweiterungen für die URL sind folgende: \n",
    "\n",
    "* DNB: https://services.dnb.de/sru/dnb\n",
    "* DMA: https://services.dnb.de/sru/dnb.dma\n",
    "* GND: https://services.dnb.de/sru/authorities\n",
    "\n",
    "Werden die jeweiligen Bereiche ohne weitere Spezifikationen abgefragt, senden sie eine \"Explain-Response\" in XML zurück. \n",
    "\n",
    "Mit Hilfe der Bibliothek BeautifulSoup kann die Antwort direkt in XML umgewandelt werden. \n",
    "\n",
    "Hinweis: Um die Antwort nicht zu lang werden zu lassen, werden hier nur die ersten 500 Zeichen der Antwort ausgegeben - die eigentliche Antwort ist länger und kann durch einfaches Löschen der Einschränkung \"[0:500]\" in der \"print\"-Zeile komplett angezeigt werden. Natürlich können auch andere Bereiche zur Anzeige gewählt werden. "
   ]
  },
  {
   "cell_type": "code",
   "execution_count": 21,
   "metadata": {},
   "outputs": [
    {
     "name": "stdout",
     "output_type": "stream",
     "text": [
      "<?xml version=\"1.0\" encoding=\"utf-8\"?>\n",
      "<explainResponse xmlns=\"http://www.loc.gov/zing/srw/\">\n",
      " <version>\n",
      "  1.1\n",
      " </version>\n",
      " <record>\n",
      "  <recordSchema>\n",
      "   http://explain.z3950.org/dtd/2.0/\n",
      "  </recordSchema>\n",
      "  <recordPacking>\n",
      "   xml\n",
      "  </recordPacking>\n",
      "  <recordData>\n",
      "   <ns:explain id=\"Deutsche Nationalbibliothek\" xmlns:ns=\"http://explain.z3950.org/dtd/2.0/\">\n",
      "    <ns:serverInfo protocol=\"sru\" version=\"1.1\">\n",
      "     <ns:host>\n",
      "      services.dnb.de\n",
      "     </ns:host>\n",
      "     <ns:port>\n",
      "      443\n",
      "     </ns:port>\n"
     ]
    }
   ],
   "source": [
    "dnb = requests.get(\"https://services.dnb.de/sru/dnb\")\n",
    "\n",
    "response = soup(dnb.content, features=\"xml\")\n",
    "print(response.prettify()[0:500])\n"
   ]
  },
  {
   "cell_type": "markdown",
   "metadata": {},
   "source": [
    "Für eine Suchanfrage an die Daten der DNB wird nun zunächst über die Wahl der URL der Katalog definiert. Mit Hilfe der Variable *parameter* werdem dann alle weiteren Parameter, die die SRU-Schnittstelle benötigt, übergeben. \n",
    "\n",
    "Besonders relevant sind im Folgenden dabei die beiden Punkte 'query' : 'Klimawandel', sowie 'recordSchema' : 'MARC21-xml'. Statt \"Klimawandel\" kann hier jeder beliebige Suchbegriff eingetragen werden - auch Suchbegriffe, die aus mehreren Wörtern bestehen, können hier mittels boolscher Operatoren übergeben werden. Wie genau solche Anfragen formuliert werden müssen, kann unter https://www.dnb.de/sru nachgelesen werden. Statt \"MARC21-xml\" stehen außerdem noch oai_dc oder RDFxml zur Verfügung (siehe etwas weiter unten).   \n"
   ]
  },
  {
   "cell_type": "code",
   "execution_count": 5,
   "metadata": {},
   "outputs": [
    {
     "name": "stdout",
     "output_type": "stream",
     "text": [
      "<?xml version=\"1.0\" encoding=\"utf-8\"?>\n",
      "<searchRetrieveResponse xmlns=\"http://www.loc.gov/zing/srw/\">\n",
      " <version>\n",
      "  1.1\n",
      " </version>\n",
      " <numberOfRecords>\n",
      "  9939\n",
      " </numberOfRecords>\n",
      " <records>\n",
      "  <record>\n",
      "   <recordSchema>\n",
      "    MARC21-xml\n",
      "   </recordSchema>\n",
      "   <recordPacking>\n",
      "    xml\n",
      "   </recordPacking>\n",
      "   <recordData>\n",
      "    <record type=\"Bibliographic\" xmlns=\"http://www.loc.gov/MARC21/slim\">\n",
      "     <leader>\n",
      "      00000nam a22000008c 4500\n",
      "     </leader>\n",
      "     <controlfield tag=\"001\">\n",
      "      1147699615\n",
      "     </controlfield>\n",
      "     <controlfield tag=\"003\">\n",
      "      DE-101\n",
      "     </controlfield>\n",
      "     <controlfield tag=\"005\">\n",
      "      20221206110102.0\n",
      "     </controlfield>\n",
      "     <controlfield tag=\"007\">\n",
      "      tu\n",
      "     </controlfield>\n",
      "     <controlfield tag=\"008\">\n",
      "      171204s2027    gw ||||| |||| 00||||ger\n",
      "     </controlfield>\n",
      "     <datafield ind1=\" \" ind2=\" \" tag=\"015\">\n",
      "      <subfield code=\"a\">\n",
      "       17,N50\n",
      "      </subfield>\n",
      "      <subfield code=\"2\">\n",
      "       dnb\n",
      "      </subfield>\n",
      "     </datafield>\n",
      "     <datafield \n"
     ]
    }
   ],
   "source": [
    "dnb_url = \"https://services.dnb.de/sru/dnb\"\n",
    "\n",
    "#Parameter, die wir mit einer Anfrage übergeben wollen: \n",
    "parameter = {'version' : '1.1' , \n",
    "             'operation' : 'searchRetrieve' , \n",
    "             'query' : 'Klimawandel', \n",
    "             'recordSchema' : 'MARC21-xml'} \n",
    "\n",
    "r1 = requests.get(dnb_url, params = parameter)\n",
    "\n",
    "#print(r.url)\n",
    "\n",
    "response = soup(r1.content, features=\"xml\")\n",
    "print(response.prettify()[0:1000])\n"
   ]
  },
  {
   "cell_type": "markdown",
   "metadata": {},
   "source": [
    "Zu beachten ist, dass die Suche nach einem Stichwort über den 'query'-Befehl eine allgemeine Suche über alle Titeldaten darstellt. Die Suche ist allerdings nicht auf Titel oder ähnliches beschränkt, sondern durchsucht die Datensätze im Gesamten. Auch nach beispielsweise Autor\\*innennamen kann auf diese Art gesucht werden, jedoch muss bedacht werden, dass auch Titel, die den gesuchten Namen enthalten, in diesem Fall als Treffer ausgegeben werden. "
   ]
  },
  {
   "cell_type": "markdown",
   "metadata": {},
   "source": [
    "### 3. Aufbau einer gezielten Suche  <a class=\"anchor\" id=\"Teil3\"></a>"
   ]
  },
  {
   "cell_type": "markdown",
   "metadata": {},
   "source": [
    "Um die Suche direkt auf bestimmte Angaben wie bspw. Titel oder Autor\\*in einzugrenzen, können unter anderem folgende Befehle genutzt werden:\n",
    "\n",
    " - tit= Suche im Titeleintrag\n",
    " - atr= Suche nach Verfasser\\*in (Person oder Organisation)\n",
    " - per= Suche nach Personen (in allen relevanten Feldern)\n",
    " - sw = Suche nach Schlagworten\n",
    " - jhr = Suche nach Erscheinungszeitraum \n",
    " - ...\n",
    "\n",
    "Eine detaillierte Übersicht über die verschiedenen Abfragemöglichkeiten gibt es hier: https://www.dnb.de/expertensuche. Dabei können die unterschiedlichen Parameter auch beliebig in der Suchanfrage kombiniert werden - zu beachten ist hier lediglich, dass diese immer Teil der \"Query\" sind. \n",
    "\n",
    "Für die Ausgabe der Ergebnisse kann außerdem zwischen drei Formaten gewählt werden, indem der entsprechende Code hinter 'recordSchema' geändert wird:  \n",
    "\n",
    " - MARC21-xml (XML-Variante von MARC 21)\n",
    " - oai_dc (DNB Casual - Auswahl von Dublin-Core-Elementen - nur für Titeldaten!)\n",
    " - RDFxml (RDF - Linked Data Service)\n",
    "\n",
    "Eine Suchanfrage nach Titeln, die das Suchwort \"Klimawandel\" enthalten und im Jahr 2005 erschienen sind und die im Format DNB Casual ausgegeben werden soll, sieht dann folgendermaßen aus: "
   ]
  },
  {
   "cell_type": "code",
   "execution_count": 6,
   "metadata": {},
   "outputs": [
    {
     "name": "stdout",
     "output_type": "stream",
     "text": [
      "<?xml version=\"1.0\" encoding=\"utf-8\"?>\n",
      "<searchRetrieveResponse xmlns=\"http://www.loc.gov/zing/srw/\">\n",
      " <version>\n",
      "  1.1\n",
      " </version>\n",
      " <numberOfRecords>\n",
      "  29\n",
      " </numberOfRecords>\n",
      " <records>\n",
      "  <record>\n",
      "   <recordSchema>\n",
      "    oai_dc\n",
      "   </recordSchema>\n",
      "   <recordPacking>\n",
      "    xml\n",
      "   </recordPacking>\n",
      "   <recordData>\n",
      "    <dc xmlns=\"http://www.openarchives.org/OAI/2.0/oai_dc/\" xmlns:dc=\"http://purl.org/dc/elements/1.1/\" xmlns:dnb=\"http://d-nb.de/standards/dnbterms\" xmlns:xsi=\"http://www.w3.org/2001/XMLSchema-instance\">\n",
      "     <dc:title>\n",
      "      Anpassung an den Klimawandel : Gründe, Folgen, Handlungsoptionen / Bundesministerium für Wirtschaftliche Zusammenarbeit und Entwicklung ; Gtz, Deutsche Gesellschaft für Technische Zusammenarbeit (GTZ) GmbH\n",
      "     </dc:title>\n",
      "     <dc:creator>\n",
      "      Deutschland / Bundesministerium für Wirtschaftliche Zusammenarbeit und Entwicklung\n",
      "     </dc:creator>\n",
      "     <dc:publisher>\n",
      "      Eschborn : GTZ\n",
      "     </dc:publisher>\n",
      "     <dc:date>\n",
      "      2005\n",
      "     </dc:date>\n",
      "     <dc:iden\n"
     ]
    }
   ],
   "source": [
    "#Parameter, die wir mit einer Anfrage übergeben wollen: \n",
    "parameter = {'version' : '1.1' , 'operation' : 'searchRetrieve' , 'query' : 'tit=Klimawandel and jhr=2005',\n",
    "             'recordSchema' : 'oai_dc', 'maximumRecords': '100'} \n",
    "\n",
    "r = requests.get(dnb_url, params = parameter)\n",
    "\n",
    "#Parsen der Antwort \"r\" als XML in die neue Variable \"response\":\n",
    "response = soup(r.content, features=\"xml\")\n",
    "\n",
    "#Schöne Ausgabe der ersten 1000 Zeichen: \n",
    "print(response.prettify()[0:1000])\n"
   ]
  },
  {
   "cell_type": "markdown",
   "metadata": {},
   "source": [
    "In Zeile 8 der Antwort befindet sich folgender XML-Block, der im Text zwischen den XML-Tags die Gesamtzahl der gefundenen Ergebnisse verrät:  \n",
    "```\n",
    "<numberOfRecords>\n",
    "   ZAHL\n",
    "</numberOfRecords>\n",
    "```\n",
    "\n",
    "Wenn man diese Information nicht unbedingt im XML suchen möchte, kann natürlich auch der Code so angepasst werden, dass der entsprechende Abschnitt mithilfe des Zusatzes \".find('numberOfRecords')\" gesucht wird. Der Zusatz \".find('suchtext')\" sucht dabei nach dem ersten Element, welches den Suchtext in Klammern enthält, was für diesen Fall ausreichend ist, da diese Information nur einmal pro Anfrage von der SRU-Schnittstelle zurückgegeben wird. Wenn dagegen mehrere XML-Tags mit demselben Namen gesucht und ausgegeben werden sollen, nutzt man \".find_all('suchtext')\". \n",
    "\n",
    "Im Anschluss kann der Inhalt zwischen den beiden \"numberOfRecords\"-Tags ausgegeben werdem, indem das Attribut \".text\" an die Variable *number* angehängt wird. Zum Vergleich kann die gesamte Variable \"number\" (unten auskommentiert) ausgegeben werden:"
   ]
  },
  {
   "cell_type": "code",
   "execution_count": 17,
   "metadata": {},
   "outputs": [
    {
     "name": "stdout",
     "output_type": "stream",
     "text": [
      "29 Ergebnisse\n"
     ]
    }
   ],
   "source": [
    "number = response.find('numberOfRecords')\n",
    "print(number.text, 'Ergebnisse')\n",
    "#print(number)\n"
   ]
  },
  {
   "cell_type": "markdown",
   "metadata": {},
   "source": [
    "Da die einzelzen Treffer bzw. Werke jeweils durch \"record\"-Tags gekennzeichnet sind, werden diese nun gesucht und in der Variable *records* zwischengespeichert. Zum Vergleich wird im Anschluss noch die Länge der Variable ausgeben, um überprüfen zu können, ob diese mit der Angabe unter \"numberOfRecords\" übereinstimmt. \n",
    "\n",
    "HINWEIS: Dies funkioniert zunächst nur bis zu einer Treffermenge von insgesamt 100! Auch bei größeren Treffermengen wird im folgenden maximal die Länge 100 angezeigt - wie man trotzdem größere Treffermengen sammeln kann, folgt etwas weiter unten in diesem Tutorial. "
   ]
  },
  {
   "cell_type": "code",
   "execution_count": 9,
   "metadata": {},
   "outputs": [
    {
     "name": "stdout",
     "output_type": "stream",
     "text": [
      "29 Ergebnisse\n"
     ]
    }
   ],
   "source": [
    "records = response.find_all('record')\n",
    "print(len(records), 'Ergebnisse')"
   ]
  },
  {
   "cell_type": "markdown",
   "metadata": {},
   "source": [
    "Die Ergebnisse werden als Liste gespeichert, was bedeutet, dass die Variable *records* entsprechend eine Listenvariable ist. Die Ergebnisse stehen dabei jeweils an einem eigenen Listenplatz - bei 9 Ergebnissen gibt es in der Liste also 9 Einträge. Da der erste Eintrag allerdings an Listenplatz 0 steht, sind die Plätze von 0-8 mit den 9 Einträgen belegt - dies ist wichtig, wenn einzelene Listenplätze adressieren werden sollen. \n",
    "\n",
    "Der 3. Eintrag kann daher bspw. angezeigt werden, indem Listenplatz Nummer 2 aufrufen wird: "
   ]
  },
  {
   "cell_type": "code",
   "execution_count": 18,
   "metadata": {},
   "outputs": [
    {
     "name": "stdout",
     "output_type": "stream",
     "text": [
      "<record><recordSchema>oai_dc</recordSchema><recordPacking>xml</recordPacking><recordData><dc xmlns=\"http://www.openarchives.org/OAI/2.0/oai_dc/\" xmlns:dc=\"http://purl.org/dc/elements/1.1/\" xmlns:dnb=\"http://d-nb.de/standards/dnbterms\" xmlns:xsi=\"http://www.w3.org/2001/XMLSchema-instance\">\n",
      "<dc:title>Die EU im Einsatz gegen den Klimawandel : der EU-Emissionshandel - ein offenes System, das weltweit Innovationen fördert / [Europäische Kommission]</dc:title>\n",
      "<dc:creator>Europäische Kommission</dc:creator>\n",
      "<dc:publisher>[Luxemburg] : [Amt für Amtliche Veröff. der Europ. Gemeinschaften]</dc:publisher>\n",
      "<dc:date>2005</dc:date>\n",
      "<dc:language>ger</dc:language>\n",
      "<dc:identifier xmlns:tel=\"http://krait.kb.nl/coop/tel/handbook/telterms.html\" xsi:type=\"tel:ISBN\">92-894-9187-6 geh.</dc:identifier>\n",
      "<dc:identifier xsi:type=\"dnb:IDN\">992017882</dc:identifier>\n",
      "<dc:subject>360 Soziale Probleme, Sozialdienste, Versicherungen</dc:subject>\n",
      "<dc:subject>330 Wirtschaft</dc:subject>\n",
      "<dc:format>20 S.</dc:format>\n",
      "</dc></recordData><recordPosition>3</recordPosition></record>\n"
     ]
    }
   ],
   "source": [
    "print(records[2])"
   ]
  },
  {
   "cell_type": "markdown",
   "metadata": {},
   "source": [
    "Um das Ganze nun etwas bequemer nutzen zu können, können alle diese Schritte in einer Funktion zusammengeführt werden, die dann nur noch die jeweilige Abfrage übergeben bekommt: "
   ]
  },
  {
   "cell_type": "code",
   "execution_count": 11,
   "metadata": {},
   "outputs": [],
   "source": [
    "#Funtion\n",
    "def sru_dnb(query): \n",
    "\n",
    "    dnb_url = \"https://services.dnb.de/sru/dnb\"\n",
    "    parameter = {'version' : '1.1' , 'operation' : 'searchRetrieve' , 'query' : query,\n",
    "                 'recordSchema' : 'oai_dc', 'maximumRecords': '100'} \n",
    "\n",
    "    r = requests.get(dnb_url, params = parameter)\n",
    "    response = soup(r.content, features=\"xml\")\n",
    "    records = response.find_all('record')  \n",
    "    \n",
    "    return records #Rückgabe der Ergebnisse\n"
   ]
  },
  {
   "cell_type": "code",
   "execution_count": 12,
   "metadata": {},
   "outputs": [
    {
     "name": "stdout",
     "output_type": "stream",
     "text": [
      "29 Ergebnisse\n"
     ]
    }
   ],
   "source": [
    "#Formulierung der Abfrage: \n",
    "myquery = sru_dnb('tit=Klimawandel and jhr=2005') #Aufruf der Funktion 'sru-dnb' mit der Abfrage 'tit=Klimawandel...'\n",
    "print(len(myquery), \"Ergebnisse\")"
   ]
  },
  {
   "cell_type": "markdown",
   "metadata": {},
   "source": [
    "Da im Vorfeld meist nicht bekannt ist, wieviele Ergebnisse eine Suchanfrage findet und damit zu rechnen ist, dass häufig Ergebnismengen von über 100 Treffern vorkommen, kann die Funktion nun noch etwas angepasst werden. Dazu wird zunächst abgefragt, wieviele Treffer gefunden wurden und dann entschieden: Werden bis zu 100 Treffer gemeldet, gibt es keinen Änderungsbedarf und die Funktion kann so einfach durchlaufen und die gefundenen Treffer zurückgeben. \n",
    "Werden jedoch mehr als 100 Treffer gefunden, wird die Anfrage in 100er Schritte aufgeteilt und die Ergebnisse jeweils zwischengespeichert. Dies geschieht mit Hilfe einer Schleife, die nach jeder neuen Abfrage überprüft, ob noch weitere Treffer zu holen sind und diese in 100er Schritten \"einsammelt\". Sobald alle Teile der Anfrage verarbeitet wurden, wird dann das gesammelte Ergebnis übergeben. Die Funktion sieht dann folgendermaßen aus: "
   ]
  },
  {
   "cell_type": "code",
   "execution_count": 1,
   "metadata": {},
   "outputs": [],
   "source": [
    "def sru_dnb(query): \n",
    "\n",
    "    dnb_url = \"https://services.dnb.de/sru/dnb\"\n",
    "    parameter = {'version' : '1.1' , 'operation' : 'searchRetrieve' , 'query' : query,\n",
    "                 'recordSchema' : 'oai_dc', 'maximumRecords': '100'} \n",
    "\n",
    "    r = requests.get(dnb_url, params = parameter)\n",
    "    response = soup(r.content, features=\"xml\")\n",
    "    records = response.find_all('record')  \n",
    "    \n",
    "    \n",
    "    if len(records) <= 100: # wurden maximal 100 Treffer gefunden? Wenn ja, erfolgt direkt die Rückgabe.\n",
    "        return records\n",
    "    \n",
    "    elif len(records) > 100:                   # wurden mehr als 100 Treffer gefunden, wird hier die Schleife gestartet.\n",
    "        num_results = 100\n",
    "        i = 101\n",
    "        \n",
    "        while num_results == 100:\n",
    "            \n",
    "            parameter.update({'startRecord': i})           \n",
    "            r = requests.get(dnb_url, params=parameter)\n",
    "            xml = soup(r.content, features=\"xml\")\n",
    "            new_records = xml.find_all('record')\n",
    "            records+=new_records\n",
    "            i+=100\n",
    "            num_results = len(new_records)\n",
    "            \n",
    "        return records\n",
    "    \n",
    "    else:\n",
    "        print(\"Seomthing went wrong.\")"
   ]
  },
  {
   "cell_type": "markdown",
   "metadata": {},
   "source": [
    "Diese Funktion wird auch bereits im Tutorial [\"Wie können Daten mittels der SRU-Schnittstelle abgerufen werden?\"](https://www.dnb.de/DE/Professionell/Services/WissenschaftundForschung/DNBLab/dnblab_node.html#doc731014bodyText4) verwendet. \n",
    "\n",
    "Eine Abfrage für das Titelstichwort \"Klimawandel\", kombiniert nun mit den Jahr 2019, ergibt nun folgende Treffermenge: "
   ]
  },
  {
   "cell_type": "code",
   "execution_count": 2,
   "metadata": {},
   "outputs": [
    {
     "ename": "NameError",
     "evalue": "name 'requests' is not defined",
     "output_type": "error",
     "traceback": [
      "\u001b[1;31m---------------------------------------------------------------------------\u001b[0m",
      "\u001b[1;31mNameError\u001b[0m                                 Traceback (most recent call last)",
      "Cell \u001b[1;32mIn[2], line 1\u001b[0m\n\u001b[1;32m----> 1\u001b[0m myquery \u001b[38;5;241m=\u001b[39m \u001b[43msru_dnb\u001b[49m\u001b[43m(\u001b[49m\u001b[38;5;124;43m'\u001b[39;49m\u001b[38;5;124;43mtit=Klimawandel and jhr=2019\u001b[39;49m\u001b[38;5;124;43m'\u001b[39;49m\u001b[43m)\u001b[49m\n\u001b[0;32m      2\u001b[0m \u001b[38;5;28mprint\u001b[39m(\u001b[38;5;28mlen\u001b[39m(myquery), \u001b[38;5;124m\"\u001b[39m\u001b[38;5;124mErgebnisse\u001b[39m\u001b[38;5;124m\"\u001b[39m)\n",
      "Cell \u001b[1;32mIn[1], line 7\u001b[0m, in \u001b[0;36msru_dnb\u001b[1;34m(query)\u001b[0m\n\u001b[0;32m      3\u001b[0m dnb_url \u001b[38;5;241m=\u001b[39m \u001b[38;5;124m\"\u001b[39m\u001b[38;5;124mhttps://services.dnb.de/sru/dnb\u001b[39m\u001b[38;5;124m\"\u001b[39m\n\u001b[0;32m      4\u001b[0m parameter \u001b[38;5;241m=\u001b[39m {\u001b[38;5;124m'\u001b[39m\u001b[38;5;124mversion\u001b[39m\u001b[38;5;124m'\u001b[39m : \u001b[38;5;124m'\u001b[39m\u001b[38;5;124m1.1\u001b[39m\u001b[38;5;124m'\u001b[39m , \u001b[38;5;124m'\u001b[39m\u001b[38;5;124moperation\u001b[39m\u001b[38;5;124m'\u001b[39m : \u001b[38;5;124m'\u001b[39m\u001b[38;5;124msearchRetrieve\u001b[39m\u001b[38;5;124m'\u001b[39m , \u001b[38;5;124m'\u001b[39m\u001b[38;5;124mquery\u001b[39m\u001b[38;5;124m'\u001b[39m : query,\n\u001b[0;32m      5\u001b[0m              \u001b[38;5;124m'\u001b[39m\u001b[38;5;124mrecordSchema\u001b[39m\u001b[38;5;124m'\u001b[39m : \u001b[38;5;124m'\u001b[39m\u001b[38;5;124moai_dc\u001b[39m\u001b[38;5;124m'\u001b[39m, \u001b[38;5;124m'\u001b[39m\u001b[38;5;124mmaximumRecords\u001b[39m\u001b[38;5;124m'\u001b[39m: \u001b[38;5;124m'\u001b[39m\u001b[38;5;124m100\u001b[39m\u001b[38;5;124m'\u001b[39m} \n\u001b[1;32m----> 7\u001b[0m r \u001b[38;5;241m=\u001b[39m \u001b[43mrequests\u001b[49m\u001b[38;5;241m.\u001b[39mget(dnb_url, params \u001b[38;5;241m=\u001b[39m parameter)\n\u001b[0;32m      8\u001b[0m response \u001b[38;5;241m=\u001b[39m soup(r\u001b[38;5;241m.\u001b[39mcontent, features\u001b[38;5;241m=\u001b[39m\u001b[38;5;124m\"\u001b[39m\u001b[38;5;124mxml\u001b[39m\u001b[38;5;124m\"\u001b[39m)\n\u001b[0;32m      9\u001b[0m records \u001b[38;5;241m=\u001b[39m response\u001b[38;5;241m.\u001b[39mfind_all(\u001b[38;5;124m'\u001b[39m\u001b[38;5;124mrecord\u001b[39m\u001b[38;5;124m'\u001b[39m)  \n",
      "\u001b[1;31mNameError\u001b[0m: name 'requests' is not defined"
     ]
    }
   ],
   "source": [
    "myquery = sru_dnb('tit=Klimawandel and jhr=2019')\n",
    "print(len(myquery), \"Ergebnisse\")"
   ]
  },
  {
   "cell_type": "markdown",
   "metadata": {},
   "source": [
    "Die so abgerufenen Treffer können entweder direkt weiterverarbeitet oder lokal zwischengespeichert werden. Der folgende Codeblock erstellt eine entsprechende Datei und legt den Inhalt der Abfrage dort als XML ab: "
   ]
  },
  {
   "cell_type": "code",
   "execution_count": 15,
   "metadata": {},
   "outputs": [],
   "source": [
    "with open('sru_abfrage_klimawandel.xml', 'w', encoding=\"utf-8\") as f:\n",
    "    f.write(str(myquery))"
   ]
  },
  {
   "cell_type": "markdown",
   "metadata": {},
   "source": [
    "Hinweis: Wie oben bereits erwähnt, entnimmt die Schleife jeweils die bibliografischen Datensätze aus den XML-Antworten der Schnittstelle und legt diese in eine Liste ab. Es handelt sich daher bei der Variable *myquery* nicht um valides XML, da ein Root-Element fehlt. Für die weitere Verarbeitung der abgerufenen Datensätze zu Analysezwecken ist dies jedoch unerheblich. Bei Bedarf kann der Code entsprechend angepasst werden, dies ist allerdings nicht mehr Teil dieses Tutorials. "
   ]
  },
  {
   "cell_type": "code",
   "execution_count": null,
   "metadata": {},
   "outputs": [],
   "source": []
  }
 ],
 "metadata": {
  "kernelspec": {
   "display_name": "Python 3 (ipykernel)",
   "language": "python",
   "name": "python3"
  },
  "language_info": {
   "codemirror_mode": {
    "name": "ipython",
    "version": 3
   },
   "file_extension": ".py",
   "mimetype": "text/x-python",
   "name": "python",
   "nbconvert_exporter": "python",
   "pygments_lexer": "ipython3",
   "version": "3.10.9"
  }
 },
 "nbformat": 4,
 "nbformat_minor": 4
}
